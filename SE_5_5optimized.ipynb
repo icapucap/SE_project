{
  "nbformat": 4,
  "nbformat_minor": 0,
  "metadata": {
    "colab": {
      "name": "SE_5*5optimized.ipynb",
      "provenance": [],
      "collapsed_sections": [],
      "include_colab_link": true
    },
    "kernelspec": {
      "name": "python3",
      "display_name": "Python 3"
    },
    "accelerator": "GPU",
    "widgets": {
      "application/vnd.jupyter.widget-state+json": {
        "8e958180ae024354bc76b5707ca7f21f": {
          "model_module": "@jupyter-widgets/controls",
          "model_name": "VBoxModel",
          "state": {
            "_view_name": "VBoxView",
            "_dom_classes": [],
            "_model_name": "VBoxModel",
            "_view_module": "@jupyter-widgets/controls",
            "_model_module_version": "1.5.0",
            "_view_count": null,
            "_view_module_version": "1.5.0",
            "box_style": "",
            "layout": "IPY_MODEL_90416f2edd2b43c1a32f0efc7cc2ebdc",
            "_model_module": "@jupyter-widgets/controls",
            "children": [
              "IPY_MODEL_bce2af616df143e2bb76cd4105b2d269",
              "IPY_MODEL_190d87cbfad1495f81172f682d80e5f9"
            ]
          }
        },
        "90416f2edd2b43c1a32f0efc7cc2ebdc": {
          "model_module": "@jupyter-widgets/base",
          "model_name": "LayoutModel",
          "state": {
            "_view_name": "LayoutView",
            "grid_template_rows": null,
            "right": null,
            "justify_content": null,
            "_view_module": "@jupyter-widgets/base",
            "overflow": null,
            "_model_module_version": "1.2.0",
            "_view_count": null,
            "flex_flow": null,
            "width": null,
            "min_width": null,
            "border": null,
            "align_items": null,
            "bottom": null,
            "_model_module": "@jupyter-widgets/base",
            "top": null,
            "grid_column": null,
            "overflow_y": null,
            "overflow_x": null,
            "grid_auto_flow": null,
            "grid_area": null,
            "grid_template_columns": null,
            "flex": null,
            "_model_name": "LayoutModel",
            "justify_items": null,
            "grid_row": null,
            "max_height": null,
            "align_content": null,
            "visibility": null,
            "align_self": null,
            "height": null,
            "min_height": null,
            "padding": null,
            "grid_auto_rows": null,
            "grid_gap": null,
            "max_width": null,
            "order": null,
            "_view_module_version": "1.2.0",
            "grid_template_areas": null,
            "object_position": null,
            "object_fit": null,
            "grid_auto_columns": null,
            "margin": null,
            "display": null,
            "left": null
          }
        },
        "bce2af616df143e2bb76cd4105b2d269": {
          "model_module": "@jupyter-widgets/controls",
          "model_name": "LabelModel",
          "state": {
            "_view_name": "LabelView",
            "style": "IPY_MODEL_7cbd09e2fc4a42cabdbe9742fbdf9970",
            "_dom_classes": [],
            "description": "",
            "_model_name": "LabelModel",
            "placeholder": "​",
            "_view_module": "@jupyter-widgets/controls",
            "_model_module_version": "1.5.0",
            "value": " 584.54MB of 584.54MB uploaded (0.00MB deduped)\r",
            "_view_count": null,
            "_view_module_version": "1.5.0",
            "description_tooltip": null,
            "_model_module": "@jupyter-widgets/controls",
            "layout": "IPY_MODEL_a2d934204ae34d41a4bf69c2ddf4ee4e"
          }
        },
        "190d87cbfad1495f81172f682d80e5f9": {
          "model_module": "@jupyter-widgets/controls",
          "model_name": "FloatProgressModel",
          "state": {
            "_view_name": "ProgressView",
            "style": "IPY_MODEL_3ef539e3e40a4a8f995c744880a06e2a",
            "_dom_classes": [],
            "description": "",
            "_model_name": "FloatProgressModel",
            "bar_style": "",
            "max": 1,
            "_view_module": "@jupyter-widgets/controls",
            "_model_module_version": "1.5.0",
            "value": 1,
            "_view_count": null,
            "_view_module_version": "1.5.0",
            "orientation": "horizontal",
            "min": 0,
            "description_tooltip": null,
            "_model_module": "@jupyter-widgets/controls",
            "layout": "IPY_MODEL_cbcc957b5b2c491c8fc8e443cc439bd9"
          }
        },
        "7cbd09e2fc4a42cabdbe9742fbdf9970": {
          "model_module": "@jupyter-widgets/controls",
          "model_name": "DescriptionStyleModel",
          "state": {
            "_view_name": "StyleView",
            "_model_name": "DescriptionStyleModel",
            "description_width": "",
            "_view_module": "@jupyter-widgets/base",
            "_model_module_version": "1.5.0",
            "_view_count": null,
            "_view_module_version": "1.2.0",
            "_model_module": "@jupyter-widgets/controls"
          }
        },
        "a2d934204ae34d41a4bf69c2ddf4ee4e": {
          "model_module": "@jupyter-widgets/base",
          "model_name": "LayoutModel",
          "state": {
            "_view_name": "LayoutView",
            "grid_template_rows": null,
            "right": null,
            "justify_content": null,
            "_view_module": "@jupyter-widgets/base",
            "overflow": null,
            "_model_module_version": "1.2.0",
            "_view_count": null,
            "flex_flow": null,
            "width": null,
            "min_width": null,
            "border": null,
            "align_items": null,
            "bottom": null,
            "_model_module": "@jupyter-widgets/base",
            "top": null,
            "grid_column": null,
            "overflow_y": null,
            "overflow_x": null,
            "grid_auto_flow": null,
            "grid_area": null,
            "grid_template_columns": null,
            "flex": null,
            "_model_name": "LayoutModel",
            "justify_items": null,
            "grid_row": null,
            "max_height": null,
            "align_content": null,
            "visibility": null,
            "align_self": null,
            "height": null,
            "min_height": null,
            "padding": null,
            "grid_auto_rows": null,
            "grid_gap": null,
            "max_width": null,
            "order": null,
            "_view_module_version": "1.2.0",
            "grid_template_areas": null,
            "object_position": null,
            "object_fit": null,
            "grid_auto_columns": null,
            "margin": null,
            "display": null,
            "left": null
          }
        },
        "3ef539e3e40a4a8f995c744880a06e2a": {
          "model_module": "@jupyter-widgets/controls",
          "model_name": "ProgressStyleModel",
          "state": {
            "_view_name": "StyleView",
            "_model_name": "ProgressStyleModel",
            "description_width": "",
            "_view_module": "@jupyter-widgets/base",
            "_model_module_version": "1.5.0",
            "_view_count": null,
            "_view_module_version": "1.2.0",
            "bar_color": null,
            "_model_module": "@jupyter-widgets/controls"
          }
        },
        "cbcc957b5b2c491c8fc8e443cc439bd9": {
          "model_module": "@jupyter-widgets/base",
          "model_name": "LayoutModel",
          "state": {
            "_view_name": "LayoutView",
            "grid_template_rows": null,
            "right": null,
            "justify_content": null,
            "_view_module": "@jupyter-widgets/base",
            "overflow": null,
            "_model_module_version": "1.2.0",
            "_view_count": null,
            "flex_flow": null,
            "width": null,
            "min_width": null,
            "border": null,
            "align_items": null,
            "bottom": null,
            "_model_module": "@jupyter-widgets/base",
            "top": null,
            "grid_column": null,
            "overflow_y": null,
            "overflow_x": null,
            "grid_auto_flow": null,
            "grid_area": null,
            "grid_template_columns": null,
            "flex": null,
            "_model_name": "LayoutModel",
            "justify_items": null,
            "grid_row": null,
            "max_height": null,
            "align_content": null,
            "visibility": null,
            "align_self": null,
            "height": null,
            "min_height": null,
            "padding": null,
            "grid_auto_rows": null,
            "grid_gap": null,
            "max_width": null,
            "order": null,
            "_view_module_version": "1.2.0",
            "grid_template_areas": null,
            "object_position": null,
            "object_fit": null,
            "grid_auto_columns": null,
            "margin": null,
            "display": null,
            "left": null
          }
        }
      }
    }
  },
  "cells": [
    {
      "cell_type": "markdown",
      "metadata": {
        "id": "view-in-github",
        "colab_type": "text"
      },
      "source": [
        "<a href=\"https://colab.research.google.com/github/icapucap/SE_project/blob/main/SE_5_5optimized.ipynb\" target=\"_parent\"><img src=\"https://colab.research.google.com/assets/colab-badge.svg\" alt=\"Open In Colab\"/></a>"
      ]
    },
    {
      "cell_type": "code",
      "metadata": {
        "id": "OwMSfMzJLjvh",
        "outputId": "8820cc1c-f0a4-4358-a6c9-7de4de790323",
        "colab": {
          "base_uri": "https://localhost:8080/",
          "height": 425
        }
      },
      "source": [
        "!pip install wandb"
      ],
      "execution_count": 23,
      "outputs": [
        {
          "output_type": "stream",
          "text": [
            "Requirement already satisfied: wandb in /usr/local/lib/python3.6/dist-packages (0.10.8)\n",
            "Requirement already satisfied: psutil>=5.0.0 in /usr/local/lib/python3.6/dist-packages (from wandb) (5.4.8)\n",
            "Requirement already satisfied: protobuf>=3.12.0 in /usr/local/lib/python3.6/dist-packages (from wandb) (3.12.4)\n",
            "Requirement already satisfied: python-dateutil>=2.6.1 in /usr/local/lib/python3.6/dist-packages (from wandb) (2.8.1)\n",
            "Requirement already satisfied: shortuuid>=0.5.0 in /usr/local/lib/python3.6/dist-packages (from wandb) (1.0.1)\n",
            "Requirement already satisfied: docker-pycreds>=0.4.0 in /usr/local/lib/python3.6/dist-packages (from wandb) (0.4.0)\n",
            "Requirement already satisfied: sentry-sdk>=0.4.0 in /usr/local/lib/python3.6/dist-packages (from wandb) (0.19.1)\n",
            "Requirement already satisfied: subprocess32>=3.5.3 in /usr/local/lib/python3.6/dist-packages (from wandb) (3.5.4)\n",
            "Requirement already satisfied: Click>=7.0 in /usr/local/lib/python3.6/dist-packages (from wandb) (7.1.2)\n",
            "Requirement already satisfied: configparser>=3.8.1 in /usr/local/lib/python3.6/dist-packages (from wandb) (5.0.1)\n",
            "Requirement already satisfied: watchdog>=0.8.3 in /usr/local/lib/python3.6/dist-packages (from wandb) (0.10.3)\n",
            "Requirement already satisfied: six>=1.13.0 in /usr/local/lib/python3.6/dist-packages (from wandb) (1.15.0)\n",
            "Requirement already satisfied: promise<3,>=2.0 in /usr/local/lib/python3.6/dist-packages (from wandb) (2.3)\n",
            "Requirement already satisfied: GitPython>=1.0.0 in /usr/local/lib/python3.6/dist-packages (from wandb) (3.1.10)\n",
            "Requirement already satisfied: requests<3,>=2.0.0 in /usr/local/lib/python3.6/dist-packages (from wandb) (2.23.0)\n",
            "Requirement already satisfied: PyYAML in /usr/local/lib/python3.6/dist-packages (from wandb) (3.13)\n",
            "Requirement already satisfied: setuptools in /usr/local/lib/python3.6/dist-packages (from protobuf>=3.12.0->wandb) (50.3.0)\n",
            "Requirement already satisfied: urllib3>=1.10.0 in /usr/local/lib/python3.6/dist-packages (from sentry-sdk>=0.4.0->wandb) (1.24.3)\n",
            "Requirement already satisfied: certifi in /usr/local/lib/python3.6/dist-packages (from sentry-sdk>=0.4.0->wandb) (2020.6.20)\n",
            "Requirement already satisfied: pathtools>=0.1.1 in /usr/local/lib/python3.6/dist-packages (from watchdog>=0.8.3->wandb) (0.1.2)\n",
            "Requirement already satisfied: gitdb<5,>=4.0.1 in /usr/local/lib/python3.6/dist-packages (from GitPython>=1.0.0->wandb) (4.0.5)\n",
            "Requirement already satisfied: chardet<4,>=3.0.2 in /usr/local/lib/python3.6/dist-packages (from requests<3,>=2.0.0->wandb) (3.0.4)\n",
            "Requirement already satisfied: idna<3,>=2.5 in /usr/local/lib/python3.6/dist-packages (from requests<3,>=2.0.0->wandb) (2.10)\n",
            "Requirement already satisfied: smmap<4,>=3.0.1 in /usr/local/lib/python3.6/dist-packages (from gitdb<5,>=4.0.1->GitPython>=1.0.0->wandb) (3.0.4)\n"
          ],
          "name": "stdout"
        }
      ]
    },
    {
      "cell_type": "code",
      "metadata": {
        "id": "k9xxkbkFB60U",
        "outputId": "b3113c17-7d84-40a4-bc8b-0bd0888d6d19",
        "colab": {
          "base_uri": "https://localhost:8080/",
          "height": 1000,
          "referenced_widgets": [
            "8e958180ae024354bc76b5707ca7f21f",
            "90416f2edd2b43c1a32f0efc7cc2ebdc",
            "bce2af616df143e2bb76cd4105b2d269",
            "190d87cbfad1495f81172f682d80e5f9",
            "7cbd09e2fc4a42cabdbe9742fbdf9970",
            "a2d934204ae34d41a4bf69c2ddf4ee4e",
            "3ef539e3e40a4a8f995c744880a06e2a",
            "cbcc957b5b2c491c8fc8e443cc439bd9"
          ]
        }
      },
      "source": [
        "import numpy as np\n",
        "import matplotlib.pyplot as plt\n",
        "from keras.models import Sequential\n",
        "from keras.layers import Dense\n",
        "from keras.layers import Dropout\n",
        "from keras.layers import Flatten\n",
        "from keras.constraints import maxnorm\n",
        "from keras.optimizers import SGD,Adam\n",
        "from keras.layers import Activation\n",
        "from keras.layers.convolutional import Conv2D, MaxPooling2D, ZeroPadding2D\n",
        "from keras.layers.pooling import GlobalAveragePooling2D\n",
        "from keras.layers.normalization import BatchNormalization\n",
        "from keras.initializers import glorot_normal\n",
        "from keras.utils import np_utils\n",
        "from keras import backend as K\n",
        "from keras.datasets import cifar10\n",
        "from keras.callbacks import  EarlyStopping, LearningRateScheduler\n",
        "from keras.preprocessing.image import ImageDataGenerator\n",
        "from keras.utils import to_categorical\n",
        "from keras.regularizers import l2\n",
        "from keras.optimizers.schedules import ExponentialDecay\n",
        "\n",
        "import wandb\n",
        "from wandb.keras import WandbCallback\n",
        "wandb.init(project=\"vgg-cifar10\")"
      ],
      "execution_count": 24,
      "outputs": [
        {
          "output_type": "stream",
          "text": [
            "\u001b[34m\u001b[1mwandb\u001b[0m: \u001b[33mWARNING\u001b[0m Calling wandb.login() after wandb.init() has no effect.\n"
          ],
          "name": "stderr"
        },
        {
          "output_type": "display_data",
          "data": {
            "text/html": [
              "<br/>Waiting for W&B process to finish, PID 4944<br/>Program ended successfully."
            ],
            "text/plain": [
              "<IPython.core.display.HTML object>"
            ]
          },
          "metadata": {
            "tags": []
          }
        },
        {
          "output_type": "display_data",
          "data": {
            "application/vnd.jupyter.widget-view+json": {
              "model_id": "8e958180ae024354bc76b5707ca7f21f",
              "version_minor": 0,
              "version_major": 2
            },
            "text/plain": [
              "VBox(children=(Label(value=' 584.52MB of 584.52MB uploaded (0.00MB deduped)\\r'), FloatProgress(value=1.0, max=…"
            ]
          },
          "metadata": {
            "tags": []
          }
        },
        {
          "output_type": "display_data",
          "data": {
            "text/html": [
              "Find user logs for this run at: <code>wandb/run-20201023_082736-3ftsfun0/logs/debug.log</code>"
            ],
            "text/plain": [
              "<IPython.core.display.HTML object>"
            ]
          },
          "metadata": {
            "tags": []
          }
        },
        {
          "output_type": "display_data",
          "data": {
            "text/html": [
              "Find internal logs for this run at: <code>wandb/run-20201023_082736-3ftsfun0/logs/debug-internal.log</code>"
            ],
            "text/plain": [
              "<IPython.core.display.HTML object>"
            ]
          },
          "metadata": {
            "tags": []
          }
        },
        {
          "output_type": "display_data",
          "data": {
            "text/html": [
              "<h3>Run summary:</h3><br/><style>\n",
              "    table.wandb td:nth-child(1) { padding: 0 10px; text-align: right }\n",
              "    </style><table class=\"wandb\">\n",
              "<tr><td>epoch</td><td>29</td></tr><tr><td>loss</td><td>0.55276</td></tr><tr><td>accuracy</td><td>0.82523</td></tr><tr><td>val_loss</td><td>0.79012</td></tr><tr><td>val_accuracy</td><td>0.759</td></tr><tr><td>_step</td><td>29</td></tr><tr><td>_runtime</td><td>1523</td></tr><tr><td>_timestamp</td><td>1603443189</td></tr><tr><td>best_val_loss</td><td>0.67541</td></tr><tr><td>best_epoch</td><td>22</td></tr></table>"
            ],
            "text/plain": [
              "<IPython.core.display.HTML object>"
            ]
          },
          "metadata": {
            "tags": []
          }
        },
        {
          "output_type": "display_data",
          "data": {
            "text/html": [
              "<h3>Run history:</h3><br/><style>\n",
              "    table.wandb td:nth-child(1) { padding: 0 10px; text-align: right }\n",
              "    </style><table class=\"wandb\">\n",
              "<tr><td>epoch</td><td>▁▁▁▂▂▂▂▃▃▃▃▄▄▄▄▅▅▅▅▆▆▆▆▇▇▇▇███</td></tr><tr><td>loss</td><td>█▆▅▅▄▄▄▃▃▃▃▃▂▂▂▂▂▂▂▂▂▂▁▁▁▁▁▁▁▁</td></tr><tr><td>accuracy</td><td>▁▃▄▅▅▆▆▆▆▆▇▇▇▇▇▇▇▇▇▇██████████</td></tr><tr><td>val_loss</td><td>█▄▅▃▃▃▃▂▂▂▂▂▂▂▂▁▂▁▂▂▂▂▁▁▁▁▁▁▁▁</td></tr><tr><td>val_accuracy</td><td>▁▄▄▆▅▆▆▇▆▇▇▇▇▇▇█▇▇▇▇▇▇█▇███▇██</td></tr><tr><td>_step</td><td>▁▁▁▂▂▂▂▃▃▃▃▄▄▄▄▅▅▅▅▆▆▆▆▇▇▇▇███</td></tr><tr><td>_runtime</td><td>▁▂▂▂▂▂▃▃▃▃▄▄▄▅▅▅▅▅▆▆▆▆▆▇▇▇▇███</td></tr><tr><td>_timestamp</td><td>▁▂▂▂▂▂▃▃▃▃▄▄▄▅▅▅▅▅▆▆▆▆▆▇▇▇▇███</td></tr></table><br/>"
            ],
            "text/plain": [
              "<IPython.core.display.HTML object>"
            ]
          },
          "metadata": {
            "tags": []
          }
        },
        {
          "output_type": "display_data",
          "data": {
            "text/html": [
              "Synced 5 W&B file(s), 1081 media file(s), 0 artifact file(s) and 1 other file(s)"
            ],
            "text/plain": [
              "<IPython.core.display.HTML object>"
            ]
          },
          "metadata": {
            "tags": []
          }
        },
        {
          "output_type": "display_data",
          "data": {
            "text/html": [
              "\n",
              "                    <br/>Synced <strong style=\"color:#cdcd00\">usual-star-48</strong>: <a href=\"https://wandb.ai/ritiksp2411/vgg-cifar10/runs/3ftsfun0\" target=\"_blank\">https://wandb.ai/ritiksp2411/vgg-cifar10/runs/3ftsfun0</a><br/>\n",
              "                "
            ],
            "text/plain": [
              "<IPython.core.display.HTML object>"
            ]
          },
          "metadata": {
            "tags": []
          }
        },
        {
          "output_type": "display_data",
          "data": {
            "text/html": [
              "\n",
              "                Tracking run with wandb version 0.10.8<br/>\n",
              "                Syncing run <strong style=\"color:#cdcd00\">confused-rain-49</strong> to <a href=\"https://wandb.ai\" target=\"_blank\">Weights & Biases</a> <a href=\"https://docs.wandb.com/integrations/jupyter.html\" target=\"_blank\">(Documentation)</a>.<br/>\n",
              "                Project page: <a href=\"https://wandb.ai/ritiksp2411/vgg-cifar10\" target=\"_blank\">https://wandb.ai/ritiksp2411/vgg-cifar10</a><br/>\n",
              "                Run page: <a href=\"https://wandb.ai/ritiksp2411/vgg-cifar10/runs/214e7grq\" target=\"_blank\">https://wandb.ai/ritiksp2411/vgg-cifar10/runs/214e7grq</a><br/>\n",
              "                Run data is saved locally in <code>wandb/run-20201023_085652-214e7grq</code><br/><br/>\n",
              "            "
            ],
            "text/plain": [
              "<IPython.core.display.HTML object>"
            ]
          },
          "metadata": {
            "tags": []
          }
        },
        {
          "output_type": "execute_result",
          "data": {
            "text/plain": [
              "<wandb.sdk.wandb_run.Run at 0x7fb28a6d9898>"
            ],
            "text/html": [
              "<h1>Run(214e7grq)</h1><p></p><iframe src=\"https://wandb.ai/ritiksp2411/vgg-cifar10/runs/214e7grq\" style=\"border:none;width:100%;height:400px\"></iframe>"
            ]
          },
          "metadata": {
            "tags": []
          },
          "execution_count": 24
        }
      ]
    },
    {
      "cell_type": "code",
      "metadata": {
        "id": "DMcbIP_jCP1x"
      },
      "source": [
        "batch_size = 128\n",
        "epochs = 100\n",
        "learning_rate = 0.05\n",
        "lr_decay = 1e-6\n",
        "lr_drop = 40\n",
        "(x_train, y_train), (x_test, y_test) = cifar10.load_data()\n",
        "x_train = x_train.astype('float32')\n",
        "x_test = x_test.astype('float32')\n",
        "\n",
        "y_train = to_categorical(y_train, 10)\n",
        "y_test = to_categorical(y_test, 10)\n",
        "\n",
        "x_train  /= 255\n",
        "x_test /= 255\n",
        "\n",
        "class_names = ['airplane','automobile','bird','cat','deer',\n",
        "               'dog','frog','horse','ship','truck']\n",
        "               \n",
        "datagen = ImageDataGenerator(\n",
        "            featurewise_center=False, \n",
        "            samplewise_center=False,  \n",
        "            featurewise_std_normalization=False,  \n",
        "            samplewise_std_normalization=False,  \n",
        "            zca_whitening=False,  \n",
        "            rotation_range=15,  \n",
        "            width_shift_range=0.1,  \n",
        "            height_shift_range=0.1,  \n",
        "            horizontal_flip=True, \n",
        "            vertical_flip=False)  \n",
        "      \n",
        "datagen.fit(x_train)\n"
      ],
      "execution_count": 25,
      "outputs": []
    },
    {
      "cell_type": "code",
      "metadata": {
        "id": "YLWt1VYyKrTf"
      },
      "source": [
        "BATCH_NORM = True\n",
        "num_classes=10\n",
        "\n",
        "def base_model():\n",
        "    model = Sequential()\n",
        "\n",
        "    model.add(Conv2D(64, (3, 3), padding='same', input_shape=x_train.shape[1:], name='block1_conv1'))\n",
        "    model.add(BatchNormalization()) if BATCH_NORM else None\n",
        "    model.add(Activation('relu'))\n",
        "\n",
        "    model.add(Conv2D(64, (3, 3), padding='same', name='block1_conv2'))\n",
        "    model.add(BatchNormalization()) if BATCH_NORM else None\n",
        "    model.add(Activation('relu'))\n",
        "\n",
        "    model.add(MaxPooling2D((2, 2), strides=(2, 2), name='block1_pool'))\n",
        "    model.add(Dropout(0.2))\n",
        "\n",
        "    model.add(Conv2D(128, (3, 3), padding='same', name='block2_conv1' ))\n",
        "    model.add(BatchNormalization()) if BATCH_NORM else None\n",
        "    model.add(Activation('relu'))\n",
        "\n",
        "    model.add(Conv2D(128, (3, 3), padding='same', name='block2_conv2' ))\n",
        "    model.add(BatchNormalization()) if BATCH_NORM else None\n",
        "    model.add(Activation('relu'))\n",
        "    model.add(MaxPooling2D((2, 2), strides=(2, 2), name='block2_pool'))\n",
        "    model.add(Dropout(0.2))\n",
        "\n",
        "    model.add(Conv2D(256, (3, 3), padding='same', name='block3_conv1' ))\n",
        "    model.add(BatchNormalization()) if BATCH_NORM else None\n",
        "    model.add(Activation('relu'))\n",
        "\n",
        "    model.add(Conv2D(256, (3, 3), padding='same', name='block3_conv2' ))\n",
        "    model.add(BatchNormalization()) if BATCH_NORM else None\n",
        "    model.add(Activation('relu'))\n",
        "\n",
        "    model.add(Conv2D(256, (3, 3), padding='same', name='block3_conv3' ))\n",
        "    model.add(BatchNormalization()) if BATCH_NORM else None\n",
        "    model.add(Activation('relu'))\n",
        "\n",
        "    model.add(Conv2D(256, (3, 3), padding='same', name='block3_conv4' ))\n",
        "    model.add(BatchNormalization()) if BATCH_NORM else None\n",
        "    model.add(Activation('relu'))\n",
        "\n",
        "    model.add(MaxPooling2D((2, 2), strides=(2, 2), name='block3_pool'))\n",
        "    model.add(Dropout(0.2))\n",
        "\n",
        "    model.add(Conv2D(512, (3, 3), padding='same', name='block4_conv1' ))\n",
        "    model.add(BatchNormalization()) if BATCH_NORM else None\n",
        "    model.add(Activation('relu'))\n",
        "\n",
        "    model.add(Conv2D(512, (3, 3), padding='same', name='block4_conv2' ))\n",
        "    model.add(BatchNormalization()) if BATCH_NORM else None\n",
        "    model.add(Activation('relu'))\n",
        "\n",
        "    model.add(Conv2D(512, (3, 3), padding='same', name='block4_conv3' ))\n",
        "    model.add(BatchNormalization()) if BATCH_NORM else None\n",
        "    model.add(Activation('relu'))\n",
        "\n",
        "    model.add(Conv2D(512, (3, 3), padding='same', name='block4_conv4' ))\n",
        "    model.add(BatchNormalization()) if BATCH_NORM else None\n",
        "    model.add(Activation('relu'))\n",
        "    model.add(MaxPooling2D((2, 2), strides=(2, 2), name='block4_pool'))\n",
        "    model.add(Dropout(0.2))\n",
        "\n",
        "    model.add(Conv2D(512, (3, 3), padding='same', name='block5_conv1' ))\n",
        "    model.add(BatchNormalization()) if BATCH_NORM else None\n",
        "    model.add(Activation('relu'))\n",
        "\n",
        "    model.add(Conv2D(512, (3, 3), padding='same', name='block5_conv2' ))\n",
        "    model.add(BatchNormalization()) if BATCH_NORM else None\n",
        "    model.add(Activation('relu'))\n",
        "\n",
        "    model.add(Conv2D(512, (3, 3), padding='same', name='block5_conv3' ))\n",
        "    model.add(BatchNormalization()) if BATCH_NORM else None\n",
        "    model.add(Activation('relu'))\n",
        "\n",
        "    model.add(Conv2D(512, (3, 3), padding='same', name='block5_conv4' ))\n",
        "    model.add(BatchNormalization()) if BATCH_NORM else None\n",
        "    model.add(Activation('relu'))\n",
        "\n",
        "    model.add(Flatten())\n",
        "    model.add(Dropout(0.2))\n",
        "\n",
        "    model.add(Dense(4096 ))\n",
        "    model.add(BatchNormalization()) if BATCH_NORM else None\n",
        "    model.add(Activation('relu'))\n",
        "    model.add(Dropout(0.5))\n",
        "\n",
        "    model.add(Dense(4096, name='fc2' ))\n",
        "    model.add(BatchNormalization()) if BATCH_NORM else None\n",
        "    model.add(Activation('relu'))\n",
        "    model.add(Dropout(0.5))\n",
        "\n",
        "    model.add(Dense(num_classes))\n",
        "    model.add(BatchNormalization()) if BATCH_NORM else None\n",
        "    model.add(Activation('softmax'))\n",
        "\n",
        "    # sgd = SGD(lr=learning_rate, decay=lr_decay, momentum=0.75, nesterov=True)\n",
        "    lr_schedule = ExponentialDecay(\n",
        "    initial_learning_rate=1e-2,\n",
        "    decay_steps=10000,\n",
        "    decay_rate=0.8)\n",
        "    optimizer = Adam(learning_rate=lr_schedule)\n",
        "    \n",
        "    model.compile(loss='categorical_crossentropy', optimizer=optimizer,metrics=['accuracy'])\n",
        "    return model\n",
        "\n",
        "\n",
        "\n",
        "\n",
        "\n"
      ],
      "execution_count": 26,
      "outputs": []
    },
    {
      "cell_type": "code",
      "metadata": {
        "id": "m5y-57h7LvDB"
      },
      "source": [
        "# in this model we replace consecutive lower convolution filters with a higher size filter\n",
        "def model_replace_large():\n",
        "    model = Sequential()\n",
        "\n",
        "    model.add(Conv2D(64, (5, 5), padding='same', input_shape=x_train.shape[1:], name='block1_conv1'))\n",
        "    model.add(BatchNormalization()) if BATCH_NORM else None\n",
        "    model.add(Activation('relu'))\n",
        "\n",
        "    # model.add(Conv2D(64, (3, 3), padding='same', name='block1_conv2'))\n",
        "    # model.add(BatchNormalization()) if BATCH_NORM else None\n",
        "    # model.add(Activation('relu'))\n",
        "\n",
        "    model.add(MaxPooling2D((2, 2), strides=(2, 2), name='block1_pool'))\n",
        "    model.add(Dropout(0.3))\n",
        "\n",
        "    model.add(Conv2D(128, (5, 5), padding='same', name='block2_conv1' ))\n",
        "    model.add(BatchNormalization()) if BATCH_NORM else None\n",
        "    model.add(Activation('relu'))\n",
        "\n",
        "    # model.add(Conv2D(128, (3, 3), padding='same', name='block2_conv2' ))\n",
        "    # model.add(BatchNormalization()) if BATCH_NORM else None\n",
        "    # model.add(Activation('relu'))\n",
        "    model.add(MaxPooling2D((2, 2), strides=(2, 2), name='block2_pool'))\n",
        "    model.add(Dropout(0.3))\n",
        "\n",
        "    model.add(Conv2D(256, (5, 5), padding='same', name='block3_conv1' ))\n",
        "    model.add(BatchNormalization()) if BATCH_NORM else None\n",
        "    model.add(Activation('relu'))\n",
        "\n",
        "    # model.add(Conv2D(256, (3, 3), padding='same', name='block3_conv2' ))\n",
        "    # model.add(BatchNormalization()) if BATCH_NORM else None\n",
        "    # model.add(Activation('relu'))\n",
        "\n",
        "    model.add(Conv2D(256, (5, 5), padding='same', name='block3_conv3' ))\n",
        "    model.add(BatchNormalization()) if BATCH_NORM else None\n",
        "    model.add(Activation('relu'))\n",
        "\n",
        "    # model.add(Conv2D(256, (3, 3), padding='same', name='block3_conv4' ))\n",
        "    # model.add(BatchNormalization()) if BATCH_NORM else None\n",
        "    # model.add(Activation('relu'))\n",
        "\n",
        "    model.add(MaxPooling2D((2, 2), strides=(2, 2), name='block3_pool'))\n",
        "    model.add(Dropout(0.3))\n",
        "\n",
        "    model.add(Conv2D(512, (5, 5), padding='same', name='block4_conv1' ))\n",
        "    model.add(BatchNormalization()) if BATCH_NORM else None\n",
        "    model.add(Activation('relu'))\n",
        "\n",
        "    # model.add(Conv2D(512, (3, 3), padding='same', name='block4_conv2' ))\n",
        "    # model.add(BatchNormalization()) if BATCH_NORM else None\n",
        "    # model.add(Activation('relu'))\n",
        "\n",
        "    model.add(Conv2D(512, (5, 5), padding='same', name='block4_conv3' ))\n",
        "    model.add(BatchNormalization()) if BATCH_NORM else None\n",
        "    model.add(Activation('relu'))\n",
        "\n",
        "    # model.add(Conv2D(512, (3, 3), padding='same', name='block4_conv4' ))\n",
        "    # model.add(BatchNormalization()) if BATCH_NORM else None\n",
        "    # model.add(Activation('relu'))\n",
        "    model.add(MaxPooling2D((2, 2), strides=(2, 2), name='block4_pool'))\n",
        "    model.add(Dropout(0.3))\n",
        "\n",
        "    model.add(Conv2D(512, (5, 5), padding='same', name='block5_conv1' ))\n",
        "    model.add(BatchNormalization()) if BATCH_NORM else None\n",
        "    model.add(Activation('relu'))\n",
        "\n",
        "    # model.add(Conv2D(512, (3, 3), padding='same', name='block5_conv2' ))\n",
        "    # model.add(BatchNormalization()) if BATCH_NORM else None\n",
        "    # model.add(Activation('relu'))\n",
        "\n",
        "    model.add(Conv2D(512, (5, 5), padding='same', name='block5_conv3' ))\n",
        "    model.add(BatchNormalization()) if BATCH_NORM else None\n",
        "    model.add(Activation('relu'))\n",
        "\n",
        "    # model.add(Conv2D(512, (3, 3), padding='same', name='block5_conv4' ))\n",
        "    # model.add(BatchNormalization()) if BATCH_NORM else None\n",
        "    # model.add(Activation('relu'))\n",
        "\n",
        "    model.add(Flatten())\n",
        "    model.add(Dropout(0.3))\n",
        "\n",
        "    model.add(Dense(4096 ))\n",
        "    model.add(BatchNormalization()) if BATCH_NORM else None\n",
        "    model.add(Activation('relu'))\n",
        "    model.add(Dropout(0.5))\n",
        "\n",
        "    model.add(Dense(4096, name='fc2' ))\n",
        "    model.add(BatchNormalization()) if BATCH_NORM else None\n",
        "    model.add(Activation('relu'))\n",
        "    model.add(Dropout(0.5))\n",
        "\n",
        "    model.add(Dense(num_classes))\n",
        "    model.add(BatchNormalization()) if BATCH_NORM else None\n",
        "    model.add(Activation('softmax'))\n",
        "\n",
        "    # sgd = SGD(lr=learning_rate, decay=lr_decay, momentum=0.75, nesterov=True)\n",
        "    lr_schedule = ExponentialDecay(\n",
        "    initial_learning_rate=1e-4,\n",
        "    decay_steps=10000,\n",
        "    decay_rate=0.82)\n",
        "    optimizer = Adam(learning_rate=lr_schedule)\n",
        "    \n",
        "    model.compile(loss='categorical_crossentropy', optimizer=optimizer,metrics=['accuracy'])\n",
        "    return model\n",
        "\n",
        "\n",
        "\n",
        "\n",
        "\n"
      ],
      "execution_count": 27,
      "outputs": []
    },
    {
      "cell_type": "code",
      "metadata": {
        "id": "fL2SwOUdLt2z",
        "outputId": "2501a8fe-4d76-45cd-cc57-3fe0f1ce2ea3",
        "colab": {
          "base_uri": "https://localhost:8080/",
          "height": 1000
        }
      },
      "source": [
        "cnn_n = model_replace_large()\n",
        "cnn_n.summary()\n",
        "cnn_n.fit_generator(datagen.flow(x_train, y_train,\n",
        "                                         batch_size=batch_size),\n",
        "                            steps_per_epoch=x_train.shape[0] // batch_size,\n",
        "                            epochs=epochs,\n",
        "                            validation_data=(x_test, y_test),callbacks=[WandbCallback(data_type=\"image\", validation_data=(x_test, y_test), labels=class_names),\n",
        "                               EarlyStopping(monitor='val_accuracy',patience=7, restore_best_weights=True)],verbose=2)\n",
        "#cnn_n.save_weights('cifar10vgg.h5')"
      ],
      "execution_count": 28,
      "outputs": [
        {
          "output_type": "stream",
          "text": [
            "Model: \"sequential_3\"\n",
            "_________________________________________________________________\n",
            "Layer (type)                 Output Shape              Param #   \n",
            "=================================================================\n",
            "block1_conv1 (Conv2D)        (None, 32, 32, 64)        4864      \n",
            "_________________________________________________________________\n",
            "batch_normalization_33 (Batc (None, 32, 32, 64)        256       \n",
            "_________________________________________________________________\n",
            "activation_33 (Activation)   (None, 32, 32, 64)        0         \n",
            "_________________________________________________________________\n",
            "block1_pool (MaxPooling2D)   (None, 16, 16, 64)        0         \n",
            "_________________________________________________________________\n",
            "dropout_21 (Dropout)         (None, 16, 16, 64)        0         \n",
            "_________________________________________________________________\n",
            "block2_conv1 (Conv2D)        (None, 16, 16, 128)       204928    \n",
            "_________________________________________________________________\n",
            "batch_normalization_34 (Batc (None, 16, 16, 128)       512       \n",
            "_________________________________________________________________\n",
            "activation_34 (Activation)   (None, 16, 16, 128)       0         \n",
            "_________________________________________________________________\n",
            "block2_pool (MaxPooling2D)   (None, 8, 8, 128)         0         \n",
            "_________________________________________________________________\n",
            "dropout_22 (Dropout)         (None, 8, 8, 128)         0         \n",
            "_________________________________________________________________\n",
            "block3_conv1 (Conv2D)        (None, 8, 8, 256)         819456    \n",
            "_________________________________________________________________\n",
            "batch_normalization_35 (Batc (None, 8, 8, 256)         1024      \n",
            "_________________________________________________________________\n",
            "activation_35 (Activation)   (None, 8, 8, 256)         0         \n",
            "_________________________________________________________________\n",
            "block3_conv3 (Conv2D)        (None, 8, 8, 256)         1638656   \n",
            "_________________________________________________________________\n",
            "batch_normalization_36 (Batc (None, 8, 8, 256)         1024      \n",
            "_________________________________________________________________\n",
            "activation_36 (Activation)   (None, 8, 8, 256)         0         \n",
            "_________________________________________________________________\n",
            "block3_pool (MaxPooling2D)   (None, 4, 4, 256)         0         \n",
            "_________________________________________________________________\n",
            "dropout_23 (Dropout)         (None, 4, 4, 256)         0         \n",
            "_________________________________________________________________\n",
            "block4_conv1 (Conv2D)        (None, 4, 4, 512)         3277312   \n",
            "_________________________________________________________________\n",
            "batch_normalization_37 (Batc (None, 4, 4, 512)         2048      \n",
            "_________________________________________________________________\n",
            "activation_37 (Activation)   (None, 4, 4, 512)         0         \n",
            "_________________________________________________________________\n",
            "block4_conv3 (Conv2D)        (None, 4, 4, 512)         6554112   \n",
            "_________________________________________________________________\n",
            "batch_normalization_38 (Batc (None, 4, 4, 512)         2048      \n",
            "_________________________________________________________________\n",
            "activation_38 (Activation)   (None, 4, 4, 512)         0         \n",
            "_________________________________________________________________\n",
            "block4_pool (MaxPooling2D)   (None, 2, 2, 512)         0         \n",
            "_________________________________________________________________\n",
            "dropout_24 (Dropout)         (None, 2, 2, 512)         0         \n",
            "_________________________________________________________________\n",
            "block5_conv1 (Conv2D)        (None, 2, 2, 512)         6554112   \n",
            "_________________________________________________________________\n",
            "batch_normalization_39 (Batc (None, 2, 2, 512)         2048      \n",
            "_________________________________________________________________\n",
            "activation_39 (Activation)   (None, 2, 2, 512)         0         \n",
            "_________________________________________________________________\n",
            "block5_conv3 (Conv2D)        (None, 2, 2, 512)         6554112   \n",
            "_________________________________________________________________\n",
            "batch_normalization_40 (Batc (None, 2, 2, 512)         2048      \n",
            "_________________________________________________________________\n",
            "activation_40 (Activation)   (None, 2, 2, 512)         0         \n",
            "_________________________________________________________________\n",
            "flatten_3 (Flatten)          (None, 2048)              0         \n",
            "_________________________________________________________________\n",
            "dropout_25 (Dropout)         (None, 2048)              0         \n",
            "_________________________________________________________________\n",
            "dense_6 (Dense)              (None, 4096)              8392704   \n",
            "_________________________________________________________________\n",
            "batch_normalization_41 (Batc (None, 4096)              16384     \n",
            "_________________________________________________________________\n",
            "activation_41 (Activation)   (None, 4096)              0         \n",
            "_________________________________________________________________\n",
            "dropout_26 (Dropout)         (None, 4096)              0         \n",
            "_________________________________________________________________\n",
            "fc2 (Dense)                  (None, 4096)              16781312  \n",
            "_________________________________________________________________\n",
            "batch_normalization_42 (Batc (None, 4096)              16384     \n",
            "_________________________________________________________________\n",
            "activation_42 (Activation)   (None, 4096)              0         \n",
            "_________________________________________________________________\n",
            "dropout_27 (Dropout)         (None, 4096)              0         \n",
            "_________________________________________________________________\n",
            "dense_7 (Dense)              (None, 10)                40970     \n",
            "_________________________________________________________________\n",
            "batch_normalization_43 (Batc (None, 10)                40        \n",
            "_________________________________________________________________\n",
            "activation_43 (Activation)   (None, 10)                0         \n",
            "=================================================================\n",
            "Total params: 50,866,354\n",
            "Trainable params: 50,844,446\n",
            "Non-trainable params: 21,908\n",
            "_________________________________________________________________\n",
            "Epoch 1/100\n",
            "WARNING:tensorflow:Callbacks method `on_train_batch_end` is slow compared to the batch time (batch time: 0.0427s vs `on_train_batch_end` time: 0.0758s). Check your callbacks.\n",
            "390/390 - 46s - loss: 1.8755 - accuracy: 0.3077 - val_loss: 3.1717 - val_accuracy: 0.1201\n",
            "Epoch 2/100\n",
            "390/390 - 74s - loss: 1.4982 - accuracy: 0.4711 - val_loss: 1.8187 - val_accuracy: 0.4141\n",
            "Epoch 3/100\n",
            "390/390 - 48s - loss: 1.3427 - accuracy: 0.5395 - val_loss: 2.2166 - val_accuracy: 0.3683\n",
            "Epoch 4/100\n",
            "390/390 - 75s - loss: 1.2397 - accuracy: 0.5832 - val_loss: 1.7501 - val_accuracy: 0.4381\n",
            "Epoch 5/100\n",
            "390/390 - 71s - loss: 1.1538 - accuracy: 0.6174 - val_loss: 1.5650 - val_accuracy: 0.4985\n",
            "Epoch 6/100\n",
            "390/390 - 77s - loss: 1.0849 - accuracy: 0.6462 - val_loss: 1.1891 - val_accuracy: 0.6177\n",
            "Epoch 7/100\n",
            "390/390 - 48s - loss: 1.0300 - accuracy: 0.6679 - val_loss: 1.3956 - val_accuracy: 0.5474\n",
            "Epoch 8/100\n",
            "390/390 - 48s - loss: 0.9811 - accuracy: 0.6845 - val_loss: 1.6641 - val_accuracy: 0.4815\n",
            "Epoch 9/100\n",
            "390/390 - 46s - loss: 0.9435 - accuracy: 0.6980 - val_loss: 1.5069 - val_accuracy: 0.5285\n",
            "Epoch 10/100\n",
            "390/390 - 47s - loss: 0.9036 - accuracy: 0.7119 - val_loss: 0.9284 - val_accuracy: 0.7007\n",
            "Epoch 11/100\n",
            "390/390 - 47s - loss: 0.8729 - accuracy: 0.7202 - val_loss: 1.0989 - val_accuracy: 0.6464\n",
            "Epoch 12/100\n",
            "390/390 - 44s - loss: 0.8451 - accuracy: 0.7336 - val_loss: 1.0618 - val_accuracy: 0.6665\n",
            "Epoch 13/100\n",
            "390/390 - 44s - loss: 0.8248 - accuracy: 0.7389 - val_loss: 1.0867 - val_accuracy: 0.6642\n",
            "Epoch 14/100\n",
            "390/390 - 44s - loss: 0.7978 - accuracy: 0.7486 - val_loss: 1.0296 - val_accuracy: 0.6829\n",
            "Epoch 15/100\n",
            "390/390 - 47s - loss: 0.7725 - accuracy: 0.7568 - val_loss: 0.9198 - val_accuracy: 0.7185\n",
            "Epoch 16/100\n",
            "390/390 - 45s - loss: 0.7532 - accuracy: 0.7614 - val_loss: 1.0538 - val_accuracy: 0.6675\n",
            "Epoch 17/100\n",
            "390/390 - 44s - loss: 0.7358 - accuracy: 0.7664 - val_loss: 1.0786 - val_accuracy: 0.6701\n",
            "Epoch 18/100\n",
            "390/390 - 47s - loss: 0.7181 - accuracy: 0.7725 - val_loss: 0.8491 - val_accuracy: 0.7309\n",
            "Epoch 19/100\n",
            "390/390 - 45s - loss: 0.7038 - accuracy: 0.7770 - val_loss: 0.9240 - val_accuracy: 0.7147\n",
            "Epoch 20/100\n",
            "390/390 - 47s - loss: 0.6858 - accuracy: 0.7842 - val_loss: 0.8243 - val_accuracy: 0.7479\n",
            "Epoch 21/100\n",
            "390/390 - 45s - loss: 0.6657 - accuracy: 0.7913 - val_loss: 0.8604 - val_accuracy: 0.7310\n",
            "Epoch 22/100\n",
            "390/390 - 44s - loss: 0.6563 - accuracy: 0.7931 - val_loss: 1.0325 - val_accuracy: 0.6853\n",
            "Epoch 23/100\n",
            "390/390 - 44s - loss: 0.6388 - accuracy: 0.7985 - val_loss: 0.8915 - val_accuracy: 0.7160\n",
            "Epoch 24/100\n",
            "390/390 - 44s - loss: 0.6246 - accuracy: 0.8032 - val_loss: 0.9024 - val_accuracy: 0.7135\n",
            "Epoch 25/100\n",
            "390/390 - 96s - loss: 0.6150 - accuracy: 0.8049 - val_loss: 0.7557 - val_accuracy: 0.7600\n",
            "Epoch 26/100\n",
            "390/390 - 53s - loss: 0.5984 - accuracy: 0.8111 - val_loss: 0.5768 - val_accuracy: 0.8191\n",
            "Epoch 27/100\n",
            "390/390 - 49s - loss: 0.5904 - accuracy: 0.8121 - val_loss: 0.5768 - val_accuracy: 0.8164\n",
            "Epoch 28/100\n",
            "390/390 - 47s - loss: 0.5769 - accuracy: 0.8172 - val_loss: 0.6555 - val_accuracy: 0.7907\n",
            "Epoch 29/100\n",
            "390/390 - 45s - loss: 0.5659 - accuracy: 0.8197 - val_loss: 0.6832 - val_accuracy: 0.7844\n",
            "Epoch 30/100\n",
            "390/390 - 44s - loss: 0.5511 - accuracy: 0.8253 - val_loss: 0.6834 - val_accuracy: 0.7845\n",
            "Epoch 31/100\n",
            "390/390 - 44s - loss: 0.5440 - accuracy: 0.8269 - val_loss: 0.8122 - val_accuracy: 0.7464\n",
            "Epoch 32/100\n",
            "390/390 - 47s - loss: 0.5316 - accuracy: 0.8323 - val_loss: 0.5458 - val_accuracy: 0.8246\n",
            "Epoch 33/100\n",
            "390/390 - 45s - loss: 0.5252 - accuracy: 0.8343 - val_loss: 0.7643 - val_accuracy: 0.7593\n",
            "Epoch 34/100\n",
            "390/390 - 44s - loss: 0.5147 - accuracy: 0.8367 - val_loss: 0.7096 - val_accuracy: 0.7780\n",
            "Epoch 35/100\n",
            "390/390 - 47s - loss: 0.5084 - accuracy: 0.8381 - val_loss: 0.5401 - val_accuracy: 0.8280\n",
            "Epoch 36/100\n",
            "390/390 - 45s - loss: 0.4967 - accuracy: 0.8426 - val_loss: 0.5772 - val_accuracy: 0.8129\n",
            "Epoch 37/100\n",
            "390/390 - 44s - loss: 0.4873 - accuracy: 0.8461 - val_loss: 0.5493 - val_accuracy: 0.8242\n",
            "Epoch 38/100\n",
            "390/390 - 44s - loss: 0.4780 - accuracy: 0.8482 - val_loss: 0.5425 - val_accuracy: 0.8264\n",
            "Epoch 39/100\n",
            "390/390 - 44s - loss: 0.4734 - accuracy: 0.8499 - val_loss: 0.6034 - val_accuracy: 0.8138\n",
            "Epoch 40/100\n",
            "390/390 - 44s - loss: 0.4669 - accuracy: 0.8511 - val_loss: 0.5967 - val_accuracy: 0.8129\n",
            "Epoch 41/100\n",
            "390/390 - 44s - loss: 0.4566 - accuracy: 0.8552 - val_loss: 0.6484 - val_accuracy: 0.7967\n",
            "Epoch 42/100\n",
            "390/390 - 44s - loss: 0.4519 - accuracy: 0.8576 - val_loss: 0.5602 - val_accuracy: 0.8248\n"
          ],
          "name": "stdout"
        },
        {
          "output_type": "execute_result",
          "data": {
            "text/plain": [
              "<tensorflow.python.keras.callbacks.History at 0x7fb28af5cef0>"
            ]
          },
          "metadata": {
            "tags": []
          },
          "execution_count": 28
        }
      ]
    },
    {
      "cell_type": "code",
      "metadata": {
        "id": "Le_5MDJVKyHi",
        "outputId": "3b5e24f1-a32a-4247-d9e7-836921de4ec3",
        "colab": {
          "base_uri": "https://localhost:8080/",
          "height": 810
        }
      },
      "source": [
        "\n",
        "\n",
        "from sklearn.metrics import classification_report, confusion_matrix\n",
        "Y_pred = cnn_n.predict(x_test, verbose=2)\n",
        "y_pred = np.argmax(Y_pred, axis=1)\n",
        "\n",
        "for ix in range(10):\n",
        "    print(ix, confusion_matrix(np.argmax(y_test,axis=1),y_pred)[ix].sum())\n",
        "cm = confusion_matrix(np.argmax(y_test,axis=1),y_pred)\n",
        "print(cm)\n",
        "\n",
        "# Visualizing of confusion matrix\n",
        "import seaborn as sn\n",
        "import pandas  as pd\n",
        "\n",
        "\n",
        "df_cm = pd.DataFrame(cm, range(10),\n",
        "                  range(10))\n",
        "plt.figure(figsize = (10,7))\n",
        "sn.set(font_scale=1.4)#for label size\n",
        "sn.heatmap(df_cm, annot=True,annot_kws={\"size\": 12})# font size\n",
        "plt.show()"
      ],
      "execution_count": 29,
      "outputs": [
        {
          "output_type": "stream",
          "text": [
            "WARNING:tensorflow:Callbacks method `on_predict_batch_end` is slow compared to the batch time (batch time: 0.0042s vs `on_predict_batch_end` time: 0.0076s). Check your callbacks.\n",
            "313/313 - 4s\n",
            "0 1000\n",
            "1 1000\n",
            "2 1000\n",
            "3 1000\n",
            "4 1000\n",
            "5 1000\n",
            "6 1000\n",
            "7 1000\n",
            "8 1000\n",
            "9 1000\n",
            "[[862  15  41   1  12   1   6   4  26  32]\n",
            " [  3 944   1   0   0   1   7   0   8  36]\n",
            " [ 30   6 760  12  47  38  76  16   2  13]\n",
            " [ 17  11  43 493  84 159 111  24  18  40]\n",
            " [  8   3  31   7 838  16  65  28   4   0]\n",
            " [  9   4  24  56  59 726  62  35   6  19]\n",
            " [  5   3  12   9  12   6 948   2   1   2]\n",
            " [  7   1  11  13  29  27  15 883   2  12]\n",
            " [ 33  14   4   0   6   0   2   1 912  28]\n",
            " [ 18  42   4   2   1   1   3   4  11 914]]\n"
          ],
          "name": "stdout"
        },
        {
          "output_type": "display_data",
          "data": {
            "image/png": "[encoded data removed]",
            "text/plain": [
              "<Figure size 720x504 with 2 Axes>"
            ]
          },
          "metadata": {
            "tags": []
          }
        }
      ]
    },
    {
      "cell_type": "code",
      "metadata": {
        "id": "-_YJFNqFT_I5"
      },
      "source": [
        ""
      ],
      "execution_count": 29,
      "outputs": []
    }
  ]
}